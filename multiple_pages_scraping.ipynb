{
 "cells": [
  {
   "cell_type": "code",
   "execution_count": 1,
   "id": "85c4d953-9fdf-4bbc-8be2-9d25796449aa",
   "metadata": {},
   "outputs": [],
   "source": [
    "import requests"
   ]
  },
  {
   "cell_type": "code",
   "execution_count": 2,
   "id": "f006f39c-0c61-490b-ae06-e7c83affa289",
   "metadata": {},
   "outputs": [],
   "source": [
    "def scrape_multiple_pages(begin_page, end_page):\n",
    "    def get_page_data(page_number):\n",
    "        link = 'https://flk.npc.gov.cn/api/'\n",
    "        get_data = {\n",
    "            'type': 'flfg',\n",
    "            'searchType': 'title;vague',\n",
    "            'sortTr': 'f_bbrq_s;desc',\n",
    "            'gbrqStart': '',\n",
    "            'gbrqEnd': '',\n",
    "            'sxrqStart': '',\n",
    "            'sxrqEnd': '',\n",
    "            'sort': 'true',\n",
    "            'page': str(page_number),\n",
    "            'size': '10',\n",
    "            '_': '1697203841360'\n",
    "        }\n",
    "        headers = {\n",
    "            'user-agent': 'Mozilla/5.0 (Windows NT 10.0; Win64; x64) AppleWebKit/537.36 (KHTML, like Gecko) Chrome/117.0.0.0 Safari/537.36'\n",
    "        }\n",
    "\n",
    "        json_data = requests.get(url=link, params=get_data, headers=headers).json()\n",
    "        for content_id in json_data['result']['data']:\n",
    "            url = 'https://flk.npc.gov.cn/api/detail'\n",
    "            data = {\n",
    "                'id': content_id['id']\n",
    "            }\n",
    "            response = requests.post(url=url, data=data, headers=headers)\n",
    "            title = response.json()['result']['title']\n",
    "            \n",
    "            path = response.json()['result']['body'][0]['path'] if response.json()['result']['body'][0]['path'] else ''\n",
    "            download_url = 'https://wb.flk.npc.gov.cn' + path\n",
    "            if not path:\n",
    "                print(f\"Path not found for title: {title}\")\n",
    "                continue\n",
    "            print(title, download_url)\n",
    "\n",
    "            file_extension = download_url.split('.')[-1]\n",
    "            content = requests.get(url=download_url, headers=headers).content\n",
    "            with open('multiple_pages_scraping_folder\\\\' + title + '.' + file_extension, mode='wb') as f:\n",
    "                f.write(content)\n",
    "\n",
    "        # Return the number of items processed in the current page\n",
    "        return len(json_data['result']['data'])\n",
    "\n",
    "    for page_number in range(begin_page, end_page + 1):\n",
    "        print(f\"Scraping page {page_number}...\")\n",
    "        get_page_data(page_number)"
   ]
  },
  {
   "cell_type": "code",
   "execution_count": 3,
   "id": "4fe3c626-386b-4bc0-a688-af104a0618d3",
   "metadata": {},
   "outputs": [
    {
     "name": "stdout",
     "output_type": "stream",
     "text": [
      "Scraping page 64...\n",
      "全国人民代表大会关于授权厦门市人民代表大会及其常务委员会和厦门市人民政府分别制定法规和规章在厦门经济特区实施的决定 https://wb.flk.npc.gov.cn/flfg/PDF/c11dd664f76c4c3dbeb9499e4ef0db29.pdf\n",
      "全国人民代表大会常务委员会关于授权最高人民法院、最高人民检察院在部分地区开展刑事案件认罪认罚从宽制度试点工作的决定 https://wb.flk.npc.gov.cn/flfg/WORD/4be458acee8a4c979be531d2225d6a61.docx\n",
      "全国人民代表大会常务委员会关于中国人民武装警察部队改革期间暂时调整适用相关法律规定的决定 https://wb.flk.npc.gov.cn/flfg/WORD/fb3d228752924671899eabf24586d3ec.docx\n",
      "全国人民代表大会常务委员会关于成立辽宁省第十二届人民代表大会第七次会议筹备组的决定 https://wb.flk.npc.gov.cn/flfg/WORD/1e99ec14e84b4e57bc61f0836757dbea.docx\n",
      "全国人民代表大会常务委员会关于加强法律解释工作的决议 https://wb.flk.npc.gov.cn/flfg/WORD/b4091852addf4b2090c021e74098cc37.docx\n",
      "全国人民代表大会常务委员会关于授权广东省、福建省人民代表大会及其常务委员会制定所属经济特区的各项单行经济法规的决议 https://wb.flk.npc.gov.cn/flfg/WORD/7f1275985efe4dc39e1a8bb465a84d5c.docx\n",
      "全国人民代表大会常务委员会关于香港特别行政区2012年行政长官和立法会产生办法及有关普选问题的决定 https://wb.flk.npc.gov.cn/flfg/WORD/44f067d5b8284ba1b3c339633a5f2bd7.docx\n",
      "全国人民代表大会常务委员会关于香港特别行政区行政长官普选问题和2016年立法会产生办法的决定 https://wb.flk.npc.gov.cn/flfg/WORD/37f2c343b06a46eabc19c2f1493e1cf4.docx\n",
      "全国人民代表大会常务委员会组成人员守则 https://wb.flk.npc.gov.cn/flfg/PDF/83d2f42a1e694470b14ebbb207c32ebd.pdf\n",
      "全国人民代表大会关于《中华人民共和国香港特别行政区基本法》的决定 https://wb.flk.npc.gov.cn/flfg/WORD/2366450c32d44e359af60dfdf32ce0e2.docx\n",
      "Scraping page 65...\n",
      "关于中华人民共和国国都、纪年、国歌、国旗的决议 https://wb.flk.npc.gov.cn/flfg/PDF/d9c87e17d1d64cd9907e76731d37db68.pdf\n",
      "全国人民代表大会常务委员会关于批准《内地与香港特别行政区关于在广深港高铁西九龙站设立口岸实施“一地两检”的合作安排》的决定 https://wb.flk.npc.gov.cn/flfg/WORD/51071bf16c6d4864979508571f145fe6.docx\n",
      "全国人民代表大会常务委员会关于批准《中华人民共和国香港特别行政区基本法附件一香港特别行政区行政长官的产生办法修正案》的决定（中华人民共和国香港特别行政区基本法附件一香港特别行政区行政长官的产生办法修正案） https://wb.flk.npc.gov.cn/flfg/PDF/ab07e7116e9a4076bbacbba6fca10150.pdf\n",
      "全国人民代表大会常务委员会关于设立北京金融法院的决定 https://wb.flk.npc.gov.cn/flfg/WORD/3529bfcce0ab4f3ab1579bc593e27f92.docx\n",
      "全国人民代表大会关于批准香港特别行政区基本法起草委员会关于设立全国人民代表大会常务委员会香港特别行政区基本法委员会的建议的决定 https://wb.flk.npc.gov.cn/flfg/PDF/0e8a705c04c843b79f5cff7c5e3e97bb.pdf\n",
      "第七届全国人民代表大会第一次会议关于建立海南经济特区的决议 https://wb.flk.npc.gov.cn/flfg/WORD/46b4af485864440cb929bb4e51599356.docx\n",
      "中华人民共和国全国人民代表大会常务委员会关于批准中华人民共和国政府关于领海声明的决议（附：中华人民共和国政府关于领海的声明） https://wb.flk.npc.gov.cn/flfg/PDF/eec0914967324ae19c3b3940c6be211e.pdf\n"
     ]
    }
   ],
   "source": [
    "# Test the function\n",
    "scrape_multiple_pages(7, 10)"
   ]
  }
 ],
 "metadata": {
  "kernelspec": {
   "display_name": "Python 3 (ipykernel)",
   "language": "python",
   "name": "python3"
  },
  "language_info": {
   "codemirror_mode": {
    "name": "ipython",
    "version": 3
   },
   "file_extension": ".py",
   "mimetype": "text/x-python",
   "name": "python",
   "nbconvert_exporter": "python",
   "pygments_lexer": "ipython3",
   "version": "3.11.5"
  }
 },
 "nbformat": 4,
 "nbformat_minor": 5
}
