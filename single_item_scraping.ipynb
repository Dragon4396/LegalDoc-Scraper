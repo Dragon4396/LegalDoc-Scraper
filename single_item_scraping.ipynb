{
 "cells": [
  {
   "cell_type": "code",
   "execution_count": 1,
   "id": "9ae72f55-bb8e-4995-bf35-7676a7bddba6",
   "metadata": {},
   "outputs": [],
   "source": [
    "import requests"
   ]
  },
  {
   "cell_type": "code",
   "execution_count": 2,
   "id": "ea6da75f-a01d-4ad5-ae6f-ae994e316de9",
   "metadata": {},
   "outputs": [],
   "source": [
    "url = 'https://flk.npc.gov.cn/api/detail/'\n",
    "headers = {\n",
    "    'user-agent': 'Mozilla/5.0 (Windows NT 10.0; Win64; x64) AppleWebKit/537.36 (KHTML, like Gecko) Chrome/117.0.0.0 Safari/537.36'\n",
    "}\n",
    "data = {\n",
    "    'id': 'ZmY4MDgxODE4YTIxZGMxMzAxOGE1MTMyOGUwYzBjM2M%3D'\n",
    "}\n",
    "response = requests.post(url=url, data=data, headers=headers)"
   ]
  },
  {
   "cell_type": "code",
   "execution_count": 3,
   "id": "80eba5b1-559b-4498-ba01-d308406c0cba",
   "metadata": {},
   "outputs": [
    {
     "name": "stdout",
     "output_type": "stream",
     "text": [
      "中华人民共和国外国国家豁免法 https://wb.flk.npc.gov.cn/flfg/WORD/c794339f883a4899b635f6f1d4a4c5b8.docx\n"
     ]
    }
   ],
   "source": [
    "title = response.json()['result']['title']\n",
    "path = response.json()['result']['body'][0]['path'] if response.json()['result']['body'][0]['path'] else ''\n",
    "download_url = 'https://wb.flk.npc.gov.cn' + path\n",
    "if not path:\n",
    "    print(f\"Path not found for title: {title}\")\n",
    "print(title, download_url)\n",
    "\n",
    "file_extension = download_url.split('.')[-1]\n",
    "content = requests.get(url=download_url, headers=headers).content\n",
    "with open('single_item_scraping_folder\\\\' + title + '.' + file_extension, mode='wb') as f:\n",
    "    f.write(content)"
   ]
  }
 ],
 "metadata": {
  "kernelspec": {
   "display_name": "Python 3 (ipykernel)",
   "language": "python",
   "name": "python3"
  },
  "language_info": {
   "codemirror_mode": {
    "name": "ipython",
    "version": 3
   },
   "file_extension": ".py",
   "mimetype": "text/x-python",
   "name": "python",
   "nbconvert_exporter": "python",
   "pygments_lexer": "ipython3",
   "version": "3.11.5"
  }
 },
 "nbformat": 4,
 "nbformat_minor": 5
}
