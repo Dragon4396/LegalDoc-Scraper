{
 "cells": [
  {
   "cell_type": "code",
   "execution_count": 1,
   "id": "f984a946-f289-4902-9add-8f862727c20e",
   "metadata": {},
   "outputs": [],
   "source": [
    "import requests"
   ]
  },
  {
   "cell_type": "code",
   "execution_count": 2,
   "id": "991f91ce-dea4-454f-9855-1f86a22d94c1",
   "metadata": {},
   "outputs": [],
   "source": [
    "link = 'https://flk.npc.gov.cn/api/'\n",
    "get_data = {\n",
    "    'type': 'flfg',\n",
    "    'searchType': 'title;vague',\n",
    "    'sortTr': 'f_bbrq_s;desc',\n",
    "    'gbrqStart': '',\n",
    "    'gbrqEnd': '',\n",
    "    'sxrqStart': '',\n",
    "    'sxrqEnd': '',\n",
    "    'sort': 'true',\n",
    "    'page': '1',\n",
    "    'size': '10',\n",
    "    '_': '1697203841360'\n",
    "}\n",
    "headers = {\n",
    "    'user-agent': 'Mozilla/5.0 (Windows NT 10.0; Win64; x64) AppleWebKit/537.36 (KHTML, like Gecko) Chrome/117.0.0.0 Safari/537.36'\n",
    "}\n",
    "json_data = requests.get(url=link, params=get_data, headers=headers).json()"
   ]
  },
  {
   "cell_type": "code",
   "execution_count": 3,
   "id": "09c3b744-bf7c-4ee6-8fc6-3d2fa3ae2854",
   "metadata": {},
   "outputs": [
    {
     "name": "stdout",
     "output_type": "stream",
     "text": [
      "全国人民代表大会常务委员会关于授权最高人民法院组织开展四级法院审级职能定位改革试点工作的决定 https://wb.flk.npc.gov.cn/flfg/WORD/0e48da73eb2849f9b09f4c91dce4fc7e.docx\n",
      "全国人民代表大会常务委员会关于修改《中华人民共和国人口与计划生育法》的决定 https://wb.flk.npc.gov.cn/flfg/WORD/b070dead60b04c3184cbd3b28bdb4600.docx\n",
      "Path not found for title: 中华人民共和国反外国制裁法\n",
      "中华人民共和国反外国制裁法 https://wb.flk.npc.gov.cn\n",
      "Path not found for title: 中华人民共和国军人地位和权益保障法\n",
      "中华人民共和国军人地位和权益保障法 https://wb.flk.npc.gov.cn\n",
      "Path not found for title: 中华人民共和国军事设施保护法\n",
      "中华人民共和国军事设施保护法 https://wb.flk.npc.gov.cn\n",
      "中华人民共和国海南自由贸易港法 https://wb.flk.npc.gov.cn/flfg/PDF/d89e72f498264b9babff73455ad44b9f.pdf\n",
      "Path not found for title: 中华人民共和国印花税法\n",
      "中华人民共和国印花税法 https://wb.flk.npc.gov.cn\n",
      "Path not found for title: 中华人民共和国数据安全法\n",
      "中华人民共和国数据安全法 https://wb.flk.npc.gov.cn\n",
      "Path not found for title: 中华人民共和国安全生产法\n",
      "中华人民共和国安全生产法 https://wb.flk.npc.gov.cn\n",
      "Path not found for title: 全国人民代表大会常务委员会关于开展第八个五年法治宣传教育的决议\n",
      "全国人民代表大会常务委员会关于开展第八个五年法治宣传教育的决议 https://wb.flk.npc.gov.cn\n"
     ]
    }
   ],
   "source": [
    "for content_id in json_data['result']['data']:\n",
    "    url = 'https://flk.npc.gov.cn/api/detail/'\n",
    "    data = {\n",
    "        'id': content_id['id']\n",
    "    }\n",
    "    response = requests.post(url=url, data=data, headers=headers)\n",
    "    title = response.json()['result']['title']\n",
    "    path = response.json()['result']['body'][0]['path'] if response.json()['result']['body'][0]['path'] else ''\n",
    "    download_url = 'https://wb.flk.npc.gov.cn' + path\n",
    "    if not path:\n",
    "        print(f\"Path not found for title: {title}\")\n",
    "    print(title, download_url)\n",
    "    \n",
    "    file_extension = download_url.split('.')[-1]\n",
    "    content = requests.get(url=download_url, headers=headers).content\n",
    "    with open('single_page_scraping_folder\\\\' + title + '.' + file_extension, mode='wb') as f:\n",
    "        f.write(content)"
   ]
  }
 ],
 "metadata": {
  "kernelspec": {
   "display_name": "Python 3 (ipykernel)",
   "language": "python",
   "name": "python3"
  },
  "language_info": {
   "codemirror_mode": {
    "name": "ipython",
    "version": 3
   },
   "file_extension": ".py",
   "mimetype": "text/x-python",
   "name": "python",
   "nbconvert_exporter": "python",
   "pygments_lexer": "ipython3",
   "version": "3.11.5"
  }
 },
 "nbformat": 4,
 "nbformat_minor": 5
}
